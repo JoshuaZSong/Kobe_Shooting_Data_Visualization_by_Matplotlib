{
 "cells": [
  {
   "cell_type": "code",
   "execution_count": 2,
   "id": "6d89bb07",
   "metadata": {},
   "outputs": [],
   "source": [
    "import numpy as np\n",
    "import pandas as pd\n",
    "import matplotlib as plt\n",
    "\n",
    "%matplotlib inline\n",
    "plt.rcParams['font.sans-serif'] = 'Arial'\n",
    "plt.rcParams['axes.unicode_minus'] = False"
   ]
  },
  {
   "cell_type": "markdown",
   "id": "d5050c56",
   "metadata": {},
   "source": [
    "Details：\n",
    "- action_type\n",
    "    - Jump Shot\n",
    "    - Driving Dunk Shot\n",
    "    - layup Shot\n",
    "    - Running Jump Shot\n",
    "- combined_shot_type \n",
    "- game_event_id\n",
    "- game_id\n",
    "- lat location of a shot(demonsion)\n",
    "- loc_x location of a shot\n",
    "- loc_y location of a shot\n",
    "- lon\n",
    "- minutes_remaining (mins)\n",
    "- period \n",
    "- playoffs\n",
    "- season\n",
    "- seconds_remaining\n",
    "- shot_distance\n",
    "- shot_made_flag\n",
    "- shot_type\n",
    "- shot_zone_area\n",
    "- shot_zone_basic\n",
    "    - Mid-Range\n",
    "    - Restricted Area\n",
    "    - In The Paint (Non-RA)\n",
    "    - Above the Break 3\n",
    "- shot_zone_range\n",
    "- team_id\n",
    "- team_name\n",
    "- game_date\n",
    "- matchup\n",
    "- opponent\n",
    "- shot_id"
   ]
  },
  {
   "cell_type": "code",
   "execution_count": 4,
   "id": "00b717ce",
   "metadata": {},
   "outputs": [
    {
     "data": {
      "text/plain": [
       "(30697, 25)"
      ]
     },
     "execution_count": 4,
     "metadata": {},
     "output_type": "execute_result"
    }
   ],
   "source": [
    "df = pd.read_csv('kobe.csv')\n",
    "df.shape"
   ]
  },
  {
   "cell_type": "code",
   "execution_count": null,
   "id": "09467c51",
   "metadata": {},
   "outputs": [],
   "source": []
  }
 ],
 "metadata": {
  "kernelspec": {
   "display_name": "Python 3 (ipykernel)",
   "language": "python",
   "name": "python3"
  },
  "language_info": {
   "codemirror_mode": {
    "name": "ipython",
    "version": 3
   },
   "file_extension": ".py",
   "mimetype": "text/x-python",
   "name": "python",
   "nbconvert_exporter": "python",
   "pygments_lexer": "ipython3",
   "version": "3.11.5"
  }
 },
 "nbformat": 4,
 "nbformat_minor": 5
}
