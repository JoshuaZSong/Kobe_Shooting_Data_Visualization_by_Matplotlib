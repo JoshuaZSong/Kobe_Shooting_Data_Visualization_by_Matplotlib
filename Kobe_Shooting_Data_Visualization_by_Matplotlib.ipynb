{
 "cells": [
  {
   "cell_type": "markdown",
   "id": "0dac779f",
   "metadata": {},
   "source": [
    "# Kobe Bryant Shooting Data Visualization by Matplotlib"
   ]
  },
  {
   "cell_type": "code",
   "execution_count": 15,
   "id": "6d89bb07",
   "metadata": {},
   "outputs": [],
   "source": [
    "import numpy as np\n",
    "import pandas as pd\n",
    "import matplotlib.pyplot as plt\n",
    "\n",
    "%matplotlib inline\n",
    "plt.rcParams['font.sans-serif'] = 'SimHei'\n",
    "plt.rcParams['axes.unicode_minus'] = False"
   ]
  },
  {
   "cell_type": "markdown",
   "id": "d5050c56",
   "metadata": {},
   "source": [
    "Details：\n",
    "- action_type\n",
    "    - Jump Shot\n",
    "    - Driving Dunk Shot\n",
    "    - layup Shot\n",
    "    - Running Jump Shot\n",
    "- combined_shot_type\n",
    "- game_event_id\n",
    "- game_id\n",
    "- lat location of a shot(demonsion)\n",
    "- loc_x location of a shot\n",
    "- loc_y location of a shot\n",
    "- lon\n",
    "- minutes_remaining (mins)\n",
    "- period \n",
    "- playoffs\n",
    "- season\n",
    "- seconds_remaining\n",
    "- shot_distance\n",
    "- shot_made_flag\n",
    "- shot_type\n",
    "- shot_zone_area\n",
    "- shot_zone_basic\n",
    "    - Mid-Range\n",
    "    - Restricted Area\n",
    "    - In The Paint (Non-RA)\n",
    "    - Above the Break 3\n",
    "- shot_zone_range\n",
    "- team_id\n",
    "- team_name\n",
    "- game_date\n",
    "- matchup\n",
    "- opponent\n",
    "- shot_id"
   ]
  },
  {
   "cell_type": "code",
   "execution_count": 16,
   "id": "00b717ce",
   "metadata": {},
   "outputs": [
    {
     "data": {
      "text/plain": [
       "(30697, 25)"
      ]
     },
     "execution_count": 16,
     "metadata": {},
     "output_type": "execute_result"
    }
   ],
   "source": [
    "df = pd.read_csv('kobe.csv')\n",
    "df.shape"
   ]
  },
  {
   "cell_type": "code",
   "execution_count": 17,
   "id": "09467c51",
   "metadata": {},
   "outputs": [
    {
     "data": {
      "text/html": [
       "<div>\n",
       "<style scoped>\n",
       "    .dataframe tbody tr th:only-of-type {\n",
       "        vertical-align: middle;\n",
       "    }\n",
       "\n",
       "    .dataframe tbody tr th {\n",
       "        vertical-align: top;\n",
       "    }\n",
       "\n",
       "    .dataframe thead th {\n",
       "        text-align: right;\n",
       "    }\n",
       "</style>\n",
       "<table border=\"1\" class=\"dataframe\">\n",
       "  <thead>\n",
       "    <tr style=\"text-align: right;\">\n",
       "      <th></th>\n",
       "      <th>action_type</th>\n",
       "      <th>combined_shot_type</th>\n",
       "      <th>game_event_id</th>\n",
       "      <th>game_id</th>\n",
       "      <th>lat</th>\n",
       "      <th>loc_x</th>\n",
       "      <th>loc_y</th>\n",
       "      <th>lon</th>\n",
       "      <th>minutes_remaining</th>\n",
       "      <th>period</th>\n",
       "      <th>...</th>\n",
       "      <th>shot_type</th>\n",
       "      <th>shot_zone_area</th>\n",
       "      <th>shot_zone_basic</th>\n",
       "      <th>shot_zone_range</th>\n",
       "      <th>team_id</th>\n",
       "      <th>team_name</th>\n",
       "      <th>game_date</th>\n",
       "      <th>matchup</th>\n",
       "      <th>opponent</th>\n",
       "      <th>shot_id</th>\n",
       "    </tr>\n",
       "  </thead>\n",
       "  <tbody>\n",
       "    <tr>\n",
       "      <th>0</th>\n",
       "      <td>Jump Shot</td>\n",
       "      <td>Jump Shot</td>\n",
       "      <td>10</td>\n",
       "      <td>20000012</td>\n",
       "      <td>33.9723</td>\n",
       "      <td>167</td>\n",
       "      <td>72</td>\n",
       "      <td>-118.1028</td>\n",
       "      <td>10</td>\n",
       "      <td>1</td>\n",
       "      <td>...</td>\n",
       "      <td>2PT Field Goal</td>\n",
       "      <td>Right Side(R)</td>\n",
       "      <td>Mid-Range</td>\n",
       "      <td>16-24 ft.</td>\n",
       "      <td>1610612747</td>\n",
       "      <td>Los Angeles Lakers</td>\n",
       "      <td>2000-10-31</td>\n",
       "      <td>LAL @ POR</td>\n",
       "      <td>POR</td>\n",
       "      <td>1</td>\n",
       "    </tr>\n",
       "    <tr>\n",
       "      <th>1</th>\n",
       "      <td>Jump Shot</td>\n",
       "      <td>Jump Shot</td>\n",
       "      <td>12</td>\n",
       "      <td>20000012</td>\n",
       "      <td>34.0443</td>\n",
       "      <td>-157</td>\n",
       "      <td>0</td>\n",
       "      <td>-118.4268</td>\n",
       "      <td>10</td>\n",
       "      <td>1</td>\n",
       "      <td>...</td>\n",
       "      <td>2PT Field Goal</td>\n",
       "      <td>Left Side(L)</td>\n",
       "      <td>Mid-Range</td>\n",
       "      <td>8-16 ft.</td>\n",
       "      <td>1610612747</td>\n",
       "      <td>Los Angeles Lakers</td>\n",
       "      <td>2000-10-31</td>\n",
       "      <td>LAL @ POR</td>\n",
       "      <td>POR</td>\n",
       "      <td>2</td>\n",
       "    </tr>\n",
       "    <tr>\n",
       "      <th>2</th>\n",
       "      <td>Jump Shot</td>\n",
       "      <td>Jump Shot</td>\n",
       "      <td>35</td>\n",
       "      <td>20000012</td>\n",
       "      <td>33.9093</td>\n",
       "      <td>-101</td>\n",
       "      <td>135</td>\n",
       "      <td>-118.3708</td>\n",
       "      <td>7</td>\n",
       "      <td>1</td>\n",
       "      <td>...</td>\n",
       "      <td>2PT Field Goal</td>\n",
       "      <td>Left Side Center(LC)</td>\n",
       "      <td>Mid-Range</td>\n",
       "      <td>16-24 ft.</td>\n",
       "      <td>1610612747</td>\n",
       "      <td>Los Angeles Lakers</td>\n",
       "      <td>2000-10-31</td>\n",
       "      <td>LAL @ POR</td>\n",
       "      <td>POR</td>\n",
       "      <td>3</td>\n",
       "    </tr>\n",
       "    <tr>\n",
       "      <th>3</th>\n",
       "      <td>Jump Shot</td>\n",
       "      <td>Jump Shot</td>\n",
       "      <td>43</td>\n",
       "      <td>20000012</td>\n",
       "      <td>33.8693</td>\n",
       "      <td>138</td>\n",
       "      <td>175</td>\n",
       "      <td>-118.1318</td>\n",
       "      <td>6</td>\n",
       "      <td>1</td>\n",
       "      <td>...</td>\n",
       "      <td>2PT Field Goal</td>\n",
       "      <td>Right Side Center(RC)</td>\n",
       "      <td>Mid-Range</td>\n",
       "      <td>16-24 ft.</td>\n",
       "      <td>1610612747</td>\n",
       "      <td>Los Angeles Lakers</td>\n",
       "      <td>2000-10-31</td>\n",
       "      <td>LAL @ POR</td>\n",
       "      <td>POR</td>\n",
       "      <td>4</td>\n",
       "    </tr>\n",
       "    <tr>\n",
       "      <th>4</th>\n",
       "      <td>Driving Dunk Shot</td>\n",
       "      <td>Dunk</td>\n",
       "      <td>155</td>\n",
       "      <td>20000012</td>\n",
       "      <td>34.0443</td>\n",
       "      <td>0</td>\n",
       "      <td>0</td>\n",
       "      <td>-118.2698</td>\n",
       "      <td>6</td>\n",
       "      <td>2</td>\n",
       "      <td>...</td>\n",
       "      <td>2PT Field Goal</td>\n",
       "      <td>Center(C)</td>\n",
       "      <td>Restricted Area</td>\n",
       "      <td>Less Than 8 ft.</td>\n",
       "      <td>1610612747</td>\n",
       "      <td>Los Angeles Lakers</td>\n",
       "      <td>2000-10-31</td>\n",
       "      <td>LAL @ POR</td>\n",
       "      <td>POR</td>\n",
       "      <td>5</td>\n",
       "    </tr>\n",
       "  </tbody>\n",
       "</table>\n",
       "<p>5 rows × 25 columns</p>\n",
       "</div>"
      ],
      "text/plain": [
       "         action_type combined_shot_type  game_event_id   game_id      lat  \\\n",
       "0          Jump Shot          Jump Shot             10  20000012  33.9723   \n",
       "1          Jump Shot          Jump Shot             12  20000012  34.0443   \n",
       "2          Jump Shot          Jump Shot             35  20000012  33.9093   \n",
       "3          Jump Shot          Jump Shot             43  20000012  33.8693   \n",
       "4  Driving Dunk Shot               Dunk            155  20000012  34.0443   \n",
       "\n",
       "   loc_x  loc_y       lon  minutes_remaining  period  ...       shot_type  \\\n",
       "0    167     72 -118.1028                 10       1  ...  2PT Field Goal   \n",
       "1   -157      0 -118.4268                 10       1  ...  2PT Field Goal   \n",
       "2   -101    135 -118.3708                  7       1  ...  2PT Field Goal   \n",
       "3    138    175 -118.1318                  6       1  ...  2PT Field Goal   \n",
       "4      0      0 -118.2698                  6       2  ...  2PT Field Goal   \n",
       "\n",
       "          shot_zone_area  shot_zone_basic  shot_zone_range     team_id  \\\n",
       "0          Right Side(R)        Mid-Range        16-24 ft.  1610612747   \n",
       "1           Left Side(L)        Mid-Range         8-16 ft.  1610612747   \n",
       "2   Left Side Center(LC)        Mid-Range        16-24 ft.  1610612747   \n",
       "3  Right Side Center(RC)        Mid-Range        16-24 ft.  1610612747   \n",
       "4              Center(C)  Restricted Area  Less Than 8 ft.  1610612747   \n",
       "\n",
       "            team_name   game_date    matchup opponent  shot_id  \n",
       "0  Los Angeles Lakers  2000-10-31  LAL @ POR      POR        1  \n",
       "1  Los Angeles Lakers  2000-10-31  LAL @ POR      POR        2  \n",
       "2  Los Angeles Lakers  2000-10-31  LAL @ POR      POR        3  \n",
       "3  Los Angeles Lakers  2000-10-31  LAL @ POR      POR        4  \n",
       "4  Los Angeles Lakers  2000-10-31  LAL @ POR      POR        5  \n",
       "\n",
       "[5 rows x 25 columns]"
      ]
     },
     "execution_count": 17,
     "metadata": {},
     "output_type": "execute_result"
    }
   ],
   "source": [
    "df.head()"
   ]
  },
  {
   "cell_type": "markdown",
   "id": "685203bc",
   "metadata": {},
   "source": [
    "### 1.Plot shooting location according to (loc_x,loc_y) and (lat,lon)\n",
    "- （2sactters)"
   ]
  },
  {
   "cell_type": "code",
   "execution_count": 21,
   "id": "e4c957f2",
   "metadata": {},
   "outputs": [
    {
     "data": {
      "text/plain": [
       "<function matplotlib.pyplot.show(close=None, block=None)>"
      ]
     },
     "execution_count": 21,
     "metadata": {},
     "output_type": "execute_result"
    },
    {
     "data": {
      "image/png": "[encoded data removed]",
      "text/plain": [
       "<Figure size 1000x500 with 1 Axes>"
      ]
     },
     "metadata": {},
     "output_type": "display_data"
    },
    {
     "data": {
      "image/png": "[encoded data removed]",
      "text/plain": [
       "<Figure size 1000x500 with 1 Axes>"
      ]
     },
     "metadata": {},
     "output_type": "display_data"
    }
   ],
   "source": [
    "plt.figure(figsize=(5*2, 5))\n",
    "axes1 = plt.subplot(1,2,1)\n",
    "axes1.scatter(df['loc_x'],df['loc_y'])\n",
    "axes1.set_title('Shooting loc')\n",
    "\n",
    "plt.figure(figsize=(5*2, 5))\n",
    "axes1 = plt.subplot(1,2,2)\n",
    "axes1.scatter(df['lat'],df['lon'])\n",
    "axes1.set_title('Shooting latlon')\n",
    "plt.show"
   ]
  },
  {
   "cell_type": "markdown",
   "id": "3923e62c",
   "metadata": {},
   "source": [
    "### 2.Compare action_type\n",
    "- use line chart"
   ]
  },
  {
   "cell_type": "code",
   "execution_count": 28,
   "id": "9cb38599",
   "metadata": {},
   "outputs": [
    {
     "data": {
      "text/plain": [
       "<Axes: ylabel='action_type'>"
      ]
     },
     "execution_count": 28,
     "metadata": {},
     "output_type": "execute_result"
    },
    {
     "data": {
      "image/png": "[encoded data removed]",
      "text/plain": [
       "<Figure size 500x300 with 1 Axes>"
      ]
     },
     "metadata": {},
     "output_type": "display_data"
    }
   ],
   "source": [
    "df['action_type'].value_counts().head(10)[::-1].plot.barh(figsize=(5,3))"
   ]
  },
  {
   "cell_type": "code",
   "execution_count": 31,
   "id": "ca4ffaa8",
   "metadata": {
    "scrolled": true
   },
   "outputs": [
    {
     "data": {
      "text/plain": [
       "<BarContainer object of 10 artists>"
      ]
     },
     "execution_count": 31,
     "metadata": {},
     "output_type": "execute_result"
    },
    {
     "data": {
      "image/png": "[encoded data removed]",
      "text/plain": [
       "<Figure size 500x300 with 1 Axes>"
      ]
     },
     "metadata": {},
     "output_type": "display_data"
    }
   ],
   "source": [
    "action_type = df['action_type'].value_counts().head(10)[::-1]\n",
    "plt.figure(figsize=(5,3))\n",
    "plt.barh(action_type.index,action_type.values)"
   ]
  },
  {
   "cell_type": "markdown",
   "id": "878e9cfe",
   "metadata": {},
   "source": [
    "### 3. Comparison of the accuracy of each type of shot"
   ]
  },
  {
   "cell_type": "code",
   "execution_count": 33,
   "id": "66043a0c",
   "metadata": {},
   "outputs": [
    {
     "data": {
      "text/html": [
       "<div>\n",
       "<style scoped>\n",
       "    .dataframe tbody tr th:only-of-type {\n",
       "        vertical-align: middle;\n",
       "    }\n",
       "\n",
       "    .dataframe tbody tr th {\n",
       "        vertical-align: top;\n",
       "    }\n",
       "\n",
       "    .dataframe thead th {\n",
       "        text-align: right;\n",
       "    }\n",
       "</style>\n",
       "<table border=\"1\" class=\"dataframe\">\n",
       "  <thead>\n",
       "    <tr style=\"text-align: right;\">\n",
       "      <th></th>\n",
       "      <th>action_type</th>\n",
       "      <th>combined_shot_type</th>\n",
       "      <th>game_event_id</th>\n",
       "      <th>game_id</th>\n",
       "      <th>lat</th>\n",
       "      <th>loc_x</th>\n",
       "      <th>loc_y</th>\n",
       "      <th>lon</th>\n",
       "      <th>minutes_remaining</th>\n",
       "      <th>period</th>\n",
       "      <th>...</th>\n",
       "      <th>shot_type</th>\n",
       "      <th>shot_zone_area</th>\n",
       "      <th>shot_zone_basic</th>\n",
       "      <th>shot_zone_range</th>\n",
       "      <th>team_id</th>\n",
       "      <th>team_name</th>\n",
       "      <th>game_date</th>\n",
       "      <th>matchup</th>\n",
       "      <th>opponent</th>\n",
       "      <th>shot_id</th>\n",
       "    </tr>\n",
       "  </thead>\n",
       "  <tbody>\n",
       "    <tr>\n",
       "      <th>0</th>\n",
       "      <td>Jump Shot</td>\n",
       "      <td>Jump Shot</td>\n",
       "      <td>10</td>\n",
       "      <td>20000012</td>\n",
       "      <td>33.9723</td>\n",
       "      <td>167</td>\n",
       "      <td>72</td>\n",
       "      <td>-118.1028</td>\n",
       "      <td>10</td>\n",
       "      <td>1</td>\n",
       "      <td>...</td>\n",
       "      <td>2PT Field Goal</td>\n",
       "      <td>Right Side(R)</td>\n",
       "      <td>Mid-Range</td>\n",
       "      <td>16-24 ft.</td>\n",
       "      <td>1610612747</td>\n",
       "      <td>Los Angeles Lakers</td>\n",
       "      <td>2000-10-31</td>\n",
       "      <td>LAL @ POR</td>\n",
       "      <td>POR</td>\n",
       "      <td>1</td>\n",
       "    </tr>\n",
       "    <tr>\n",
       "      <th>1</th>\n",
       "      <td>Jump Shot</td>\n",
       "      <td>Jump Shot</td>\n",
       "      <td>12</td>\n",
       "      <td>20000012</td>\n",
       "      <td>34.0443</td>\n",
       "      <td>-157</td>\n",
       "      <td>0</td>\n",
       "      <td>-118.4268</td>\n",
       "      <td>10</td>\n",
       "      <td>1</td>\n",
       "      <td>...</td>\n",
       "      <td>2PT Field Goal</td>\n",
       "      <td>Left Side(L)</td>\n",
       "      <td>Mid-Range</td>\n",
       "      <td>8-16 ft.</td>\n",
       "      <td>1610612747</td>\n",
       "      <td>Los Angeles Lakers</td>\n",
       "      <td>2000-10-31</td>\n",
       "      <td>LAL @ POR</td>\n",
       "      <td>POR</td>\n",
       "      <td>2</td>\n",
       "    </tr>\n",
       "    <tr>\n",
       "      <th>2</th>\n",
       "      <td>Jump Shot</td>\n",
       "      <td>Jump Shot</td>\n",
       "      <td>35</td>\n",
       "      <td>20000012</td>\n",
       "      <td>33.9093</td>\n",
       "      <td>-101</td>\n",
       "      <td>135</td>\n",
       "      <td>-118.3708</td>\n",
       "      <td>7</td>\n",
       "      <td>1</td>\n",
       "      <td>...</td>\n",
       "      <td>2PT Field Goal</td>\n",
       "      <td>Left Side Center(LC)</td>\n",
       "      <td>Mid-Range</td>\n",
       "      <td>16-24 ft.</td>\n",
       "      <td>1610612747</td>\n",
       "      <td>Los Angeles Lakers</td>\n",
       "      <td>2000-10-31</td>\n",
       "      <td>LAL @ POR</td>\n",
       "      <td>POR</td>\n",
       "      <td>3</td>\n",
       "    </tr>\n",
       "    <tr>\n",
       "      <th>3</th>\n",
       "      <td>Jump Shot</td>\n",
       "      <td>Jump Shot</td>\n",
       "      <td>43</td>\n",
       "      <td>20000012</td>\n",
       "      <td>33.8693</td>\n",
       "      <td>138</td>\n",
       "      <td>175</td>\n",
       "      <td>-118.1318</td>\n",
       "      <td>6</td>\n",
       "      <td>1</td>\n",
       "      <td>...</td>\n",
       "      <td>2PT Field Goal</td>\n",
       "      <td>Right Side Center(RC)</td>\n",
       "      <td>Mid-Range</td>\n",
       "      <td>16-24 ft.</td>\n",
       "      <td>1610612747</td>\n",
       "      <td>Los Angeles Lakers</td>\n",
       "      <td>2000-10-31</td>\n",
       "      <td>LAL @ POR</td>\n",
       "      <td>POR</td>\n",
       "      <td>4</td>\n",
       "    </tr>\n",
       "    <tr>\n",
       "      <th>4</th>\n",
       "      <td>Driving Dunk Shot</td>\n",
       "      <td>Dunk</td>\n",
       "      <td>155</td>\n",
       "      <td>20000012</td>\n",
       "      <td>34.0443</td>\n",
       "      <td>0</td>\n",
       "      <td>0</td>\n",
       "      <td>-118.2698</td>\n",
       "      <td>6</td>\n",
       "      <td>2</td>\n",
       "      <td>...</td>\n",
       "      <td>2PT Field Goal</td>\n",
       "      <td>Center(C)</td>\n",
       "      <td>Restricted Area</td>\n",
       "      <td>Less Than 8 ft.</td>\n",
       "      <td>1610612747</td>\n",
       "      <td>Los Angeles Lakers</td>\n",
       "      <td>2000-10-31</td>\n",
       "      <td>LAL @ POR</td>\n",
       "      <td>POR</td>\n",
       "      <td>5</td>\n",
       "    </tr>\n",
       "  </tbody>\n",
       "</table>\n",
       "<p>5 rows × 25 columns</p>\n",
       "</div>"
      ],
      "text/plain": [
       "         action_type combined_shot_type  game_event_id   game_id      lat  \\\n",
       "0          Jump Shot          Jump Shot             10  20000012  33.9723   \n",
       "1          Jump Shot          Jump Shot             12  20000012  34.0443   \n",
       "2          Jump Shot          Jump Shot             35  20000012  33.9093   \n",
       "3          Jump Shot          Jump Shot             43  20000012  33.8693   \n",
       "4  Driving Dunk Shot               Dunk            155  20000012  34.0443   \n",
       "\n",
       "   loc_x  loc_y       lon  minutes_remaining  period  ...       shot_type  \\\n",
       "0    167     72 -118.1028                 10       1  ...  2PT Field Goal   \n",
       "1   -157      0 -118.4268                 10       1  ...  2PT Field Goal   \n",
       "2   -101    135 -118.3708                  7       1  ...  2PT Field Goal   \n",
       "3    138    175 -118.1318                  6       1  ...  2PT Field Goal   \n",
       "4      0      0 -118.2698                  6       2  ...  2PT Field Goal   \n",
       "\n",
       "          shot_zone_area  shot_zone_basic  shot_zone_range     team_id  \\\n",
       "0          Right Side(R)        Mid-Range        16-24 ft.  1610612747   \n",
       "1           Left Side(L)        Mid-Range         8-16 ft.  1610612747   \n",
       "2   Left Side Center(LC)        Mid-Range        16-24 ft.  1610612747   \n",
       "3  Right Side Center(RC)        Mid-Range        16-24 ft.  1610612747   \n",
       "4              Center(C)  Restricted Area  Less Than 8 ft.  1610612747   \n",
       "\n",
       "            team_name   game_date    matchup opponent  shot_id  \n",
       "0  Los Angeles Lakers  2000-10-31  LAL @ POR      POR        1  \n",
       "1  Los Angeles Lakers  2000-10-31  LAL @ POR      POR        2  \n",
       "2  Los Angeles Lakers  2000-10-31  LAL @ POR      POR        3  \n",
       "3  Los Angeles Lakers  2000-10-31  LAL @ POR      POR        4  \n",
       "4  Los Angeles Lakers  2000-10-31  LAL @ POR      POR        5  \n",
       "\n",
       "[5 rows x 25 columns]"
      ]
     },
     "execution_count": 33,
     "metadata": {},
     "output_type": "execute_result"
    }
   ],
   "source": [
    "df.head()"
   ]
  },
  {
   "cell_type": "code",
   "execution_count": 36,
   "id": "3a4a5026",
   "metadata": {},
   "outputs": [
    {
     "data": {
      "text/plain": [
       "combined_shot_type\n",
       "Bank Shot      95.0\n",
       "Dunk          980.0\n",
       "Hook Shot      68.0\n",
       "Jump Shot    7708.0\n",
       "Layup        2561.0\n",
       "Tip Shot       53.0\n",
       "Name: shot_made_flag, dtype: float64"
      ]
     },
     "metadata": {},
     "output_type": "display_data"
    },
    {
     "data": {
      "text/plain": [
       "combined_shot_type\n",
       "Bank Shot      120\n",
       "Dunk          1056\n",
       "Hook Shot      127\n",
       "Jump Shot    19710\n",
       "Layup         4532\n",
       "Tip Shot       152\n",
       "Name: shot_made_flag, dtype: int64"
      ]
     },
     "metadata": {},
     "output_type": "display_data"
    }
   ],
   "source": [
    "# number of scored shooting type\n",
    "shot_sum = df.groupby('combined_shot_type')['shot_made_flag'].sum()\n",
    "\n",
    "# number of each shooting type\n",
    "shot_count = df.groupby('combined_shot_type')['shot_made_flag'].count()\n",
    "display(shot_sum,shot_count)"
   ]
  },
  {
   "cell_type": "markdown",
   "id": "9d3b5094",
   "metadata": {},
   "source": [
    "### 4. Comparison of different zones "
   ]
  },
  {
   "cell_type": "markdown",
   "id": "a4f5b4c6",
   "metadata": {},
   "source": [
    "###  5. Comparison of the number in each period"
   ]
  }
 ],
 "metadata": {
  "kernelspec": {
   "display_name": "Python 3 (ipykernel)",
   "language": "python",
   "name": "python3"
  },
  "language_info": {
   "codemirror_mode": {
    "name": "ipython",
    "version": 3
   },
   "file_extension": ".py",
   "mimetype": "text/x-python",
   "name": "python",
   "nbconvert_exporter": "python",
   "pygments_lexer": "ipython3",
   "version": "3.11.5"
  }
 },
 "nbformat": 4,
 "nbformat_minor": 5
}
